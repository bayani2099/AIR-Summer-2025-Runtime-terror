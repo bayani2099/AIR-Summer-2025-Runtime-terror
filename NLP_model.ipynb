{
 "cells": [
  {
   "cell_type": "markdown",
   "metadata": {
    "id": "MfnQvGfvtH1w"
   },
   "source": [
    "# Getting started\n",
    "\n",
    "### CLEF 2025 - CheckThat! Lab  - Task 4 Scientific Web Discourse - Subtask 4b (Scientific Claim Source Retrieval)\n",
    "\n",
    "This notebook enables participants of subtask 4b to quickly get started. It includes the following:\n",
    "- Code to upload data, including:\n",
    "    - code to upload the collection set (CORD-19 academic papers' metadata)\n",
    "    - code to upload the query set (tweets with implicit references to CORD-19 papers)\n",
    "- Code to run a baseline retrieval model (BM25)\n",
    "- Code to evaluate the baseline model\n",
    "\n",
    "Participants are free to use this notebook and add their own models for the competition."
   ]
  },
  {
   "cell_type": "markdown",
   "metadata": {
    "id": "vpDCfBMouNAL"
   },
   "source": [
    "# 1) Importing data"
   ]
  },
  {
   "cell_type": "code",
   "execution_count": 1,
   "metadata": {
    "executionInfo": {
     "elapsed": 403,
     "status": "ok",
     "timestamp": 1742975967136,
     "user": {
      "displayName": "Yavuz",
      "userId": "01318046262282431930"
     },
     "user_tz": -60
    },
    "id": "rQPqDKP_QHFM"
   },
   "outputs": [],
   "source": [
    "import numpy as np\n",
    "import pandas as pd"
   ]
  },
  {
   "cell_type": "markdown",
   "metadata": {
    "id": "u8N7h9BhQI5m"
   },
   "source": [
    "## 1.a) Import the collection set\n",
    "The collection set contains metadata of CORD-19 academic papers.\n",
    "\n",
    "The preprocessed and filtered CORD-19 dataset is available on the Gitlab repository here: https://gitlab.com/checkthat_lab/clef2025-checkthat-lab/-/tree/main/task4/subtask_4b\n",
    "\n",
    "Participants should first download the file then upload it on the Google Colab session with the following steps.\n"
   ]
  },
  {
   "cell_type": "code",
   "execution_count": 2,
   "metadata": {
    "executionInfo": {
     "elapsed": 7,
     "status": "ok",
     "timestamp": 1742975971100,
     "user": {
      "displayName": "Yavuz",
      "userId": "01318046262282431930"
     },
     "user_tz": -60
    },
    "id": "2GQI4HcKR6hS"
   },
   "outputs": [],
   "source": [
    "# 1) Download the collection set from the Gitlab repository: https://gitlab.com/checkthat_lab/clef2025-checkthat-lab/-/tree/main/task4/subtask_4b\n",
    "# 2) Drag and drop the downloaded file to the \"Files\" section (left vertical menu on Colab)\n",
    "# 3) Modify the path to your local file path\n",
    "PATH_COLLECTION_DATA = 'subtask4b_collection_data.pkl'  #MODIFY PATH"
   ]
  },
  {
   "cell_type": "code",
   "execution_count": 3,
   "metadata": {
    "executionInfo": {
     "elapsed": 42,
     "status": "ok",
     "timestamp": 1742975975524,
     "user": {
      "displayName": "Yavuz",
      "userId": "01318046262282431930"
     },
     "user_tz": -60
    },
    "id": "SYBB3UYbMwTA"
   },
   "outputs": [],
   "source": [
    "df_collection = pd.read_pickle(PATH_COLLECTION_DATA)"
   ]
  },
  {
   "cell_type": "code",
   "execution_count": 4,
   "metadata": {
    "colab": {
     "base_uri": "https://localhost:8080/"
    },
    "executionInfo": {
     "elapsed": 37,
     "status": "ok",
     "timestamp": 1742975976305,
     "user": {
      "displayName": "Yavuz",
      "userId": "01318046262282431930"
     },
     "user_tz": -60
    },
    "id": "4v3lygNOQQSn",
    "outputId": "ee5b9abd-f889-4a4e-ce11-32d2691433cb"
   },
   "outputs": [
    {
     "name": "stdout",
     "output_type": "stream",
     "text": [
      "<class 'pandas.core.frame.DataFrame'>\n",
      "Index: 7718 entries, 162 to 1056448\n",
      "Data columns (total 17 columns):\n",
      " #   Column            Non-Null Count  Dtype         \n",
      "---  ------            --------------  -----         \n",
      " 0   cord_uid          7718 non-null   object        \n",
      " 1   source_x          7718 non-null   object        \n",
      " 2   title             7718 non-null   object        \n",
      " 3   doi               7677 non-null   object        \n",
      " 4   pmcid             4959 non-null   object        \n",
      " 5   pubmed_id         6233 non-null   object        \n",
      " 6   license           7718 non-null   object        \n",
      " 7   abstract          7718 non-null   object        \n",
      " 8   publish_time      7715 non-null   object        \n",
      " 9   authors           7674 non-null   object        \n",
      " 10  journal           6668 non-null   object        \n",
      " 11  mag_id            0 non-null      float64       \n",
      " 12  who_covidence_id  528 non-null    object        \n",
      " 13  arxiv_id          20 non-null     object        \n",
      " 14  label             7718 non-null   object        \n",
      " 15  time              7715 non-null   datetime64[ns]\n",
      " 16  timet             7718 non-null   int64         \n",
      "dtypes: datetime64[ns](1), float64(1), int64(1), object(14)\n",
      "memory usage: 1.1+ MB\n"
     ]
    }
   ],
   "source": [
    "df_collection.info()"
   ]
  },
  {
   "cell_type": "code",
   "execution_count": 5,
   "metadata": {
    "colab": {
     "base_uri": "https://localhost:8080/",
     "height": 608
    },
    "executionInfo": {
     "elapsed": 211,
     "status": "ok",
     "timestamp": 1742975978238,
     "user": {
      "displayName": "Yavuz",
      "userId": "01318046262282431930"
     },
     "user_tz": -60
    },
    "id": "9veNFFGDZRx7",
    "outputId": "5eec7f85-7d20-44d7-8986-a85cb00533d8"
   },
   "outputs": [
    {
     "data": {
      "text/html": [
       "<div>\n",
       "<style scoped>\n",
       "    .dataframe tbody tr th:only-of-type {\n",
       "        vertical-align: middle;\n",
       "    }\n",
       "\n",
       "    .dataframe tbody tr th {\n",
       "        vertical-align: top;\n",
       "    }\n",
       "\n",
       "    .dataframe thead th {\n",
       "        text-align: right;\n",
       "    }\n",
       "</style>\n",
       "<table border=\"1\" class=\"dataframe\">\n",
       "  <thead>\n",
       "    <tr style=\"text-align: right;\">\n",
       "      <th></th>\n",
       "      <th>cord_uid</th>\n",
       "      <th>source_x</th>\n",
       "      <th>title</th>\n",
       "      <th>doi</th>\n",
       "      <th>pmcid</th>\n",
       "      <th>pubmed_id</th>\n",
       "      <th>license</th>\n",
       "      <th>abstract</th>\n",
       "      <th>publish_time</th>\n",
       "      <th>authors</th>\n",
       "      <th>journal</th>\n",
       "      <th>mag_id</th>\n",
       "      <th>who_covidence_id</th>\n",
       "      <th>arxiv_id</th>\n",
       "      <th>label</th>\n",
       "      <th>time</th>\n",
       "      <th>timet</th>\n",
       "    </tr>\n",
       "  </thead>\n",
       "  <tbody>\n",
       "    <tr>\n",
       "      <th>162</th>\n",
       "      <td>umvrwgaw</td>\n",
       "      <td>PMC</td>\n",
       "      <td>Professional and Home-Made Face Masks Reduce E...</td>\n",
       "      <td>10.1371/journal.pone.0002618</td>\n",
       "      <td>PMC2440799</td>\n",
       "      <td>18612429</td>\n",
       "      <td>cc-by</td>\n",
       "      <td>BACKGROUND: Governments are preparing for a po...</td>\n",
       "      <td>2008-07-09</td>\n",
       "      <td>van der Sande, Marianne; Teunis, Peter; Sabel,...</td>\n",
       "      <td>PLoS One</td>\n",
       "      <td>NaN</td>\n",
       "      <td>NaN</td>\n",
       "      <td>NaN</td>\n",
       "      <td>umvrwgaw</td>\n",
       "      <td>2008-07-09</td>\n",
       "      <td>1215561600</td>\n",
       "    </tr>\n",
       "    <tr>\n",
       "      <th>611</th>\n",
       "      <td>spiud6ok</td>\n",
       "      <td>PMC</td>\n",
       "      <td>The Failure of R (0)</td>\n",
       "      <td>10.1155/2011/527610</td>\n",
       "      <td>PMC3157160</td>\n",
       "      <td>21860658</td>\n",
       "      <td>cc-by</td>\n",
       "      <td>The basic reproductive ratio, R (0), is one of...</td>\n",
       "      <td>2011-08-16</td>\n",
       "      <td>Li, Jing; Blakeley, Daniel; Smith?, Robert J.</td>\n",
       "      <td>Comput Math Methods Med</td>\n",
       "      <td>NaN</td>\n",
       "      <td>NaN</td>\n",
       "      <td>NaN</td>\n",
       "      <td>spiud6ok</td>\n",
       "      <td>2011-08-16</td>\n",
       "      <td>1313452800</td>\n",
       "    </tr>\n",
       "    <tr>\n",
       "      <th>918</th>\n",
       "      <td>aclzp3iy</td>\n",
       "      <td>PMC</td>\n",
       "      <td>Pulmonary sequelae in a patient recovered from...</td>\n",
       "      <td>10.4103/0970-2113.99118</td>\n",
       "      <td>PMC3424870</td>\n",
       "      <td>22919170</td>\n",
       "      <td>cc-by-nc-sa</td>\n",
       "      <td>The pandemic of swine flu (H1N1) influenza spr...</td>\n",
       "      <td>2012</td>\n",
       "      <td>Singh, Virendra; Sharma, Bharat Bhushan; Patel...</td>\n",
       "      <td>Lung India</td>\n",
       "      <td>NaN</td>\n",
       "      <td>NaN</td>\n",
       "      <td>NaN</td>\n",
       "      <td>aclzp3iy</td>\n",
       "      <td>2012-01-01</td>\n",
       "      <td>1325376000</td>\n",
       "    </tr>\n",
       "    <tr>\n",
       "      <th>993</th>\n",
       "      <td>ycxyn2a2</td>\n",
       "      <td>PMC</td>\n",
       "      <td>What was the primary mode of smallpox transmis...</td>\n",
       "      <td>10.3389/fcimb.2012.00150</td>\n",
       "      <td>PMC3509329</td>\n",
       "      <td>23226686</td>\n",
       "      <td>cc-by</td>\n",
       "      <td>The mode of infection transmission has profoun...</td>\n",
       "      <td>2012-11-29</td>\n",
       "      <td>Milton, Donald K.</td>\n",
       "      <td>Front Cell Infect Microbiol</td>\n",
       "      <td>NaN</td>\n",
       "      <td>NaN</td>\n",
       "      <td>NaN</td>\n",
       "      <td>ycxyn2a2</td>\n",
       "      <td>2012-11-29</td>\n",
       "      <td>1354147200</td>\n",
       "    </tr>\n",
       "    <tr>\n",
       "      <th>1053</th>\n",
       "      <td>zxe95qy9</td>\n",
       "      <td>PMC</td>\n",
       "      <td>Lessons from the History of Quarantine, from P...</td>\n",
       "      <td>10.3201/eid1902.120312</td>\n",
       "      <td>PMC3559034</td>\n",
       "      <td>23343512</td>\n",
       "      <td>no-cc</td>\n",
       "      <td>In the new millennium, the centuries-old strat...</td>\n",
       "      <td>2013-02-03</td>\n",
       "      <td>Tognotti, Eugenia</td>\n",
       "      <td>Emerg Infect Dis</td>\n",
       "      <td>NaN</td>\n",
       "      <td>NaN</td>\n",
       "      <td>NaN</td>\n",
       "      <td>zxe95qy9</td>\n",
       "      <td>2013-02-03</td>\n",
       "      <td>1359849600</td>\n",
       "    </tr>\n",
       "  </tbody>\n",
       "</table>\n",
       "</div>"
      ],
      "text/plain": [
       "      cord_uid source_x                                              title  \\\n",
       "162   umvrwgaw      PMC  Professional and Home-Made Face Masks Reduce E...   \n",
       "611   spiud6ok      PMC                               The Failure of R (0)   \n",
       "918   aclzp3iy      PMC  Pulmonary sequelae in a patient recovered from...   \n",
       "993   ycxyn2a2      PMC  What was the primary mode of smallpox transmis...   \n",
       "1053  zxe95qy9      PMC  Lessons from the History of Quarantine, from P...   \n",
       "\n",
       "                               doi       pmcid pubmed_id      license  \\\n",
       "162   10.1371/journal.pone.0002618  PMC2440799  18612429        cc-by   \n",
       "611            10.1155/2011/527610  PMC3157160  21860658        cc-by   \n",
       "918        10.4103/0970-2113.99118  PMC3424870  22919170  cc-by-nc-sa   \n",
       "993       10.3389/fcimb.2012.00150  PMC3509329  23226686        cc-by   \n",
       "1053        10.3201/eid1902.120312  PMC3559034  23343512        no-cc   \n",
       "\n",
       "                                               abstract publish_time  \\\n",
       "162   BACKGROUND: Governments are preparing for a po...   2008-07-09   \n",
       "611   The basic reproductive ratio, R (0), is one of...   2011-08-16   \n",
       "918   The pandemic of swine flu (H1N1) influenza spr...         2012   \n",
       "993   The mode of infection transmission has profoun...   2012-11-29   \n",
       "1053  In the new millennium, the centuries-old strat...   2013-02-03   \n",
       "\n",
       "                                                authors  \\\n",
       "162   van der Sande, Marianne; Teunis, Peter; Sabel,...   \n",
       "611       Li, Jing; Blakeley, Daniel; Smith?, Robert J.   \n",
       "918   Singh, Virendra; Sharma, Bharat Bhushan; Patel...   \n",
       "993                                   Milton, Donald K.   \n",
       "1053                                  Tognotti, Eugenia   \n",
       "\n",
       "                          journal  mag_id who_covidence_id arxiv_id     label  \\\n",
       "162                      PLoS One     NaN              NaN      NaN  umvrwgaw   \n",
       "611       Comput Math Methods Med     NaN              NaN      NaN  spiud6ok   \n",
       "918                    Lung India     NaN              NaN      NaN  aclzp3iy   \n",
       "993   Front Cell Infect Microbiol     NaN              NaN      NaN  ycxyn2a2   \n",
       "1053             Emerg Infect Dis     NaN              NaN      NaN  zxe95qy9   \n",
       "\n",
       "           time       timet  \n",
       "162  2008-07-09  1215561600  \n",
       "611  2011-08-16  1313452800  \n",
       "918  2012-01-01  1325376000  \n",
       "993  2012-11-29  1354147200  \n",
       "1053 2013-02-03  1359849600  "
      ]
     },
     "execution_count": 5,
     "metadata": {},
     "output_type": "execute_result"
    }
   ],
   "source": [
    "df_collection.head()"
   ]
  },
  {
   "cell_type": "markdown",
   "metadata": {
    "id": "AAUiDU0xXLBt"
   },
   "source": [
    "## 1.b) Import the query set\n",
    "\n",
    "The query set contains tweets with implicit references to academic papers from the collection set.\n",
    "\n",
    "The preprocessed query set is available on the Gitlab repository here: https://gitlab.com/checkthat_lab/clef2025-checkthat-lab/-/tree/main/task4/subtask_4b\n",
    "\n",
    "Participants should first download the file then upload it on the Google Colab session with the following steps."
   ]
  },
  {
   "cell_type": "code",
   "execution_count": 6,
   "metadata": {
    "executionInfo": {
     "elapsed": 11,
     "status": "ok",
     "timestamp": 1742975982410,
     "user": {
      "displayName": "Yavuz",
      "userId": "01318046262282431930"
     },
     "user_tz": -60
    },
    "id": "v8gwkZDSXPsd"
   },
   "outputs": [],
   "source": [
    "# 1) Download the query tweets from the Gitlab repository: https://gitlab.com/checkthat_lab/clef2025-checkthat-lab/-/tree/main/task4/subtask_4b?ref_type=heads\n",
    "# 2) Drag and drop the downloaded file to the \"Files\" section (left vertical menu on Colab)\n",
    "# 3) Modify the path to your local file path\n",
    "PATH_QUERY_TRAIN_DATA = 'subtask4b_query_tweets_train.tsv' #MODIFY PATH\n",
    "PATH_QUERY_DEV_DATA = 'subtask4b_query_tweets_dev.tsv' #MODIFY PATH"
   ]
  },
  {
   "cell_type": "code",
   "execution_count": 7,
   "metadata": {
    "executionInfo": {
     "elapsed": 17,
     "status": "ok",
     "timestamp": 1742976006985,
     "user": {
      "displayName": "Yavuz",
      "userId": "01318046262282431930"
     },
     "user_tz": -60
    },
    "id": "VqxjYq2tYDmE"
   },
   "outputs": [],
   "source": [
    "df_query_train = pd.read_csv(PATH_QUERY_TRAIN_DATA, sep = '\\t')\n",
    "df_query_dev = pd.read_csv(PATH_QUERY_DEV_DATA, sep = '\\t')"
   ]
  },
  {
   "cell_type": "code",
   "execution_count": 8,
   "metadata": {
    "id": "szMEK3OkYLvX"
   },
   "outputs": [
    {
     "data": {
      "text/html": [
       "<div>\n",
       "<style scoped>\n",
       "    .dataframe tbody tr th:only-of-type {\n",
       "        vertical-align: middle;\n",
       "    }\n",
       "\n",
       "    .dataframe tbody tr th {\n",
       "        vertical-align: top;\n",
       "    }\n",
       "\n",
       "    .dataframe thead th {\n",
       "        text-align: right;\n",
       "    }\n",
       "</style>\n",
       "<table border=\"1\" class=\"dataframe\">\n",
       "  <thead>\n",
       "    <tr style=\"text-align: right;\">\n",
       "      <th></th>\n",
       "      <th>post_id</th>\n",
       "      <th>tweet_text</th>\n",
       "      <th>cord_uid</th>\n",
       "    </tr>\n",
       "  </thead>\n",
       "  <tbody>\n",
       "    <tr>\n",
       "      <th>0</th>\n",
       "      <td>0</td>\n",
       "      <td>Oral care in rehabilitation medicine: oral vul...</td>\n",
       "      <td>htlvpvz5</td>\n",
       "    </tr>\n",
       "    <tr>\n",
       "      <th>1</th>\n",
       "      <td>1</td>\n",
       "      <td>this study isn't receiving sufficient attentio...</td>\n",
       "      <td>4kfl29ul</td>\n",
       "    </tr>\n",
       "    <tr>\n",
       "      <th>2</th>\n",
       "      <td>2</td>\n",
       "      <td>thanks, xi jinping. a reminder that this study...</td>\n",
       "      <td>jtwb17u8</td>\n",
       "    </tr>\n",
       "    <tr>\n",
       "      <th>3</th>\n",
       "      <td>3</td>\n",
       "      <td>Taiwan - a population of 23 million has had ju...</td>\n",
       "      <td>0w9k8iy1</td>\n",
       "    </tr>\n",
       "    <tr>\n",
       "      <th>4</th>\n",
       "      <td>4</td>\n",
       "      <td>Obtaining a diagnosis of autism in lower incom...</td>\n",
       "      <td>tiqksd69</td>\n",
       "    </tr>\n",
       "  </tbody>\n",
       "</table>\n",
       "</div>"
      ],
      "text/plain": [
       "   post_id                                         tweet_text  cord_uid\n",
       "0        0  Oral care in rehabilitation medicine: oral vul...  htlvpvz5\n",
       "1        1  this study isn't receiving sufficient attentio...  4kfl29ul\n",
       "2        2  thanks, xi jinping. a reminder that this study...  jtwb17u8\n",
       "3        3  Taiwan - a population of 23 million has had ju...  0w9k8iy1\n",
       "4        4  Obtaining a diagnosis of autism in lower incom...  tiqksd69"
      ]
     },
     "execution_count": 8,
     "metadata": {},
     "output_type": "execute_result"
    }
   ],
   "source": [
    "df_query_train.head()"
   ]
  },
  {
   "cell_type": "code",
   "execution_count": 9,
   "metadata": {
    "id": "aslmTTJQyL2X"
   },
   "outputs": [
    {
     "name": "stdout",
     "output_type": "stream",
     "text": [
      "<class 'pandas.core.frame.DataFrame'>\n",
      "RangeIndex: 12853 entries, 0 to 12852\n",
      "Data columns (total 3 columns):\n",
      " #   Column      Non-Null Count  Dtype \n",
      "---  ------      --------------  ----- \n",
      " 0   post_id     12853 non-null  int64 \n",
      " 1   tweet_text  12853 non-null  object\n",
      " 2   cord_uid    12853 non-null  object\n",
      "dtypes: int64(1), object(2)\n",
      "memory usage: 301.4+ KB\n"
     ]
    }
   ],
   "source": [
    "df_query_train.info()"
   ]
  },
  {
   "cell_type": "code",
   "execution_count": 10,
   "metadata": {
    "colab": {
     "base_uri": "https://localhost:8080/",
     "height": 206
    },
    "executionInfo": {
     "elapsed": 28,
     "status": "ok",
     "timestamp": 1742976030778,
     "user": {
      "displayName": "Yavuz",
      "userId": "01318046262282431930"
     },
     "user_tz": -60
    },
    "id": "B5X8FwLhLY3u",
    "outputId": "36e21737-8257-4568-8346-0d3e0980ee53"
   },
   "outputs": [
    {
     "data": {
      "text/html": [
       "<div>\n",
       "<style scoped>\n",
       "    .dataframe tbody tr th:only-of-type {\n",
       "        vertical-align: middle;\n",
       "    }\n",
       "\n",
       "    .dataframe tbody tr th {\n",
       "        vertical-align: top;\n",
       "    }\n",
       "\n",
       "    .dataframe thead th {\n",
       "        text-align: right;\n",
       "    }\n",
       "</style>\n",
       "<table border=\"1\" class=\"dataframe\">\n",
       "  <thead>\n",
       "    <tr style=\"text-align: right;\">\n",
       "      <th></th>\n",
       "      <th>post_id</th>\n",
       "      <th>tweet_text</th>\n",
       "      <th>cord_uid</th>\n",
       "    </tr>\n",
       "  </thead>\n",
       "  <tbody>\n",
       "    <tr>\n",
       "      <th>0</th>\n",
       "      <td>16</td>\n",
       "      <td>covid recovery: this study from the usa reveal...</td>\n",
       "      <td>3qvh482o</td>\n",
       "    </tr>\n",
       "    <tr>\n",
       "      <th>1</th>\n",
       "      <td>69</td>\n",
       "      <td>\"Among 139 clients exposed to two symptomatic ...</td>\n",
       "      <td>r58aohnu</td>\n",
       "    </tr>\n",
       "    <tr>\n",
       "      <th>2</th>\n",
       "      <td>73</td>\n",
       "      <td>I recall early on reading that researchers who...</td>\n",
       "      <td>sts48u9i</td>\n",
       "    </tr>\n",
       "    <tr>\n",
       "      <th>3</th>\n",
       "      <td>93</td>\n",
       "      <td>You know you're credible when NIH website has ...</td>\n",
       "      <td>3sr2exq9</td>\n",
       "    </tr>\n",
       "    <tr>\n",
       "      <th>4</th>\n",
       "      <td>96</td>\n",
       "      <td>Resistance to antifungal medications is a grow...</td>\n",
       "      <td>ybwwmyqy</td>\n",
       "    </tr>\n",
       "  </tbody>\n",
       "</table>\n",
       "</div>"
      ],
      "text/plain": [
       "   post_id                                         tweet_text  cord_uid\n",
       "0       16  covid recovery: this study from the usa reveal...  3qvh482o\n",
       "1       69  \"Among 139 clients exposed to two symptomatic ...  r58aohnu\n",
       "2       73  I recall early on reading that researchers who...  sts48u9i\n",
       "3       93  You know you're credible when NIH website has ...  3sr2exq9\n",
       "4       96  Resistance to antifungal medications is a grow...  ybwwmyqy"
      ]
     },
     "execution_count": 10,
     "metadata": {},
     "output_type": "execute_result"
    }
   ],
   "source": [
    "df_query_dev.head()"
   ]
  },
  {
   "cell_type": "code",
   "execution_count": 11,
   "metadata": {
    "colab": {
     "base_uri": "https://localhost:8080/"
    },
    "executionInfo": {
     "elapsed": 14,
     "status": "ok",
     "timestamp": 1742976032804,
     "user": {
      "displayName": "Yavuz",
      "userId": "01318046262282431930"
     },
     "user_tz": -60
    },
    "id": "t6gDlBZnLcdH",
    "outputId": "11cd57d2-a4b7-4b06-a9af-9ba5e29c191b"
   },
   "outputs": [
    {
     "name": "stdout",
     "output_type": "stream",
     "text": [
      "<class 'pandas.core.frame.DataFrame'>\n",
      "RangeIndex: 1400 entries, 0 to 1399\n",
      "Data columns (total 3 columns):\n",
      " #   Column      Non-Null Count  Dtype \n",
      "---  ------      --------------  ----- \n",
      " 0   post_id     1400 non-null   int64 \n",
      " 1   tweet_text  1400 non-null   object\n",
      " 2   cord_uid    1400 non-null   object\n",
      "dtypes: int64(1), object(2)\n",
      "memory usage: 32.9+ KB\n"
     ]
    }
   ],
   "source": [
    "df_query_dev.info()"
   ]
  },
  {
   "cell_type": "markdown",
   "metadata": {
    "id": "jr_BDzufPmmP"
   },
   "source": [
    "# 2) Running the baseline\n",
    "The following code runs a BM25 baseline.\n"
   ]
  },
  {
   "cell_type": "code",
   "execution_count": 12,
   "metadata": {
    "colab": {
     "base_uri": "https://localhost:8080/"
    },
    "executionInfo": {
     "elapsed": 3156,
     "status": "ok",
     "timestamp": 1742976045832,
     "user": {
      "displayName": "Yavuz",
      "userId": "01318046262282431930"
     },
     "user_tz": -60
    },
    "id": "BHfJ7ItxO8u8",
    "outputId": "8a4d8f08-31c0-4a9d-814e-b921b80fbe35"
   },
   "outputs": [
    {
     "name": "stdout",
     "output_type": "stream",
     "text": [
      "Requirement already satisfied: rank_bm25 in /Users/Lenovo/anaconda3/envs/ML_ass/lib/python3.10/site-packages (0.2.2)\n",
      "Requirement already satisfied: numpy in /Users/Lenovo/anaconda3/envs/ML_ass/lib/python3.10/site-packages (from rank_bm25) (2.2.4)\n"
     ]
    }
   ],
   "source": [
    "!pip install rank_bm25\n",
    "from rank_bm25 import BM25Okapi\n"
   ]
  },
  {
   "cell_type": "code",
   "execution_count": 13,
   "metadata": {
    "executionInfo": {
     "elapsed": 1414,
     "status": "ok",
     "timestamp": 1742976047296,
     "user": {
      "displayName": "Yavuz",
      "userId": "01318046262282431930"
     },
     "user_tz": -60
    },
    "id": "jXCC7K_ZPQL2"
   },
   "outputs": [],
   "source": [
    "# Create the BM25 corpus\n",
    "corpus = df_collection[:][['title', 'abstract']].apply(lambda x: f\"{x['title']} {x['abstract']}\", axis=1).tolist()\n",
    "cord_uids = df_collection[:]['cord_uid'].tolist()\n",
    "tokenized_corpus = [doc.split(' ') for doc in corpus]\n",
    "bm25 = BM25Okapi(tokenized_corpus)"
   ]
  },
  {
   "cell_type": "code",
   "execution_count": 14,
   "metadata": {
    "executionInfo": {
     "elapsed": 6,
     "status": "ok",
     "timestamp": 1742976047304,
     "user": {
      "displayName": "Yavuz",
      "userId": "01318046262282431930"
     },
     "user_tz": -60
    },
    "id": "e8NeJWGYPQZG"
   },
   "outputs": [],
   "source": [
    "def get_top_cord_uids(query):\n",
    "  text2bm25top = {}\n",
    "  if query in text2bm25top.keys():\n",
    "      return text2bm25top[query]\n",
    "  else:\n",
    "      tokenized_query = query.split(' ')\n",
    "      doc_scores = bm25.get_scores(tokenized_query)\n",
    "      indices = np.argsort(-doc_scores)[:5]\n",
    "      bm25_topk = [cord_uids[x] for x in indices]\n",
    "\n",
    "      text2bm25top[query] = bm25_topk\n",
    "      return bm25_topk\n"
   ]
  },
  {
   "cell_type": "code",
   "execution_count": 15,
   "metadata": {
    "id": "Fk4-BqEtTgUj"
   },
   "outputs": [],
   "source": [
    "# Retrieve topk candidates using the BM25 model\n",
    "df_query_train['bm25_topk'] = df_query_train['tweet_text'].apply(lambda x: get_top_cord_uids(x))\n",
    "df_query_dev['bm25_topk'] = df_query_dev['tweet_text'].apply(lambda x: get_top_cord_uids(x))"
   ]
  },
  {
   "cell_type": "markdown",
   "metadata": {
    "id": "QVKBlTCZUMSc"
   },
   "source": [
    "# 3) Evaluating the baseline\n",
    "The following code evaluates the BM25 retrieval baseline on the query set using the Mean Reciprocal Rank score (MRR@5)."
   ]
  },
  {
   "cell_type": "code",
   "execution_count": 16,
   "metadata": {
    "executionInfo": {
     "elapsed": 3,
     "status": "ok",
     "timestamp": 1742976555898,
     "user": {
      "displayName": "Yavuz",
      "userId": "01318046262282431930"
     },
     "user_tz": -60
    },
    "id": "c-vdGWXXTgjZ"
   },
   "outputs": [],
   "source": [
    "# Evaluate retrieved candidates using MRR@k\n",
    "def get_performance_mrr(data, col_gold, col_pred, list_k = [1, 5, 10]):\n",
    "    d_performance = {}\n",
    "    for k in list_k:\n",
    "        data[\"in_topx\"] = data.apply(lambda x: (1/([i for i in x[col_pred][:k]].index(x[col_gold]) + 1) if x[col_gold] in [i for i in x[col_pred][:k]] else 0), axis=1)\n",
    "        #performances.append(data[\"in_topx\"].mean())\n",
    "        d_performance[k] = data[\"in_topx\"].mean()\n",
    "    return d_performance\n",
    "\n"
   ]
  },
  {
   "cell_type": "code",
   "execution_count": 17,
   "metadata": {
    "colab": {
     "base_uri": "https://localhost:8080/"
    },
    "executionInfo": {
     "elapsed": 44,
     "status": "ok",
     "timestamp": 1742976568622,
     "user": {
      "displayName": "Yavuz",
      "userId": "01318046262282431930"
     },
     "user_tz": -60
    },
    "id": "xLX9SMg5USkH",
    "outputId": "7c414679-6486-4e08-dffe-23d8cffbddf0"
   },
   "outputs": [
    {
     "name": "stdout",
     "output_type": "stream",
     "text": [
      "Results on the train set: {1: np.float64(0.5079747918773827), 5: np.float64(0.5508999196037242), 10: np.float64(0.5508999196037242)}\n",
      "Results on the dev set: {1: np.float64(0.505), 5: np.float64(0.5520357142857142), 10: np.float64(0.5520357142857142)}\n"
     ]
    }
   ],
   "source": [
    "results_train = get_performance_mrr(df_query_train, 'cord_uid', 'bm25_topk')\n",
    "results_dev = get_performance_mrr(df_query_dev, 'cord_uid', 'bm25_topk')\n",
    "# Printed MRR@k results in the following format: {k: MRR@k}\n",
    "print(f\"Results on the train set: {results_train}\")\n",
    "print(f\"Results on the dev set: {results_dev}\")"
   ]
  },
  {
   "cell_type": "markdown",
   "metadata": {
    "id": "RazcRTV84KQC"
   },
   "source": [
    "# 4) Exporting results to prepare the submission on Codalab"
   ]
  },
  {
   "cell_type": "code",
   "execution_count": 18,
   "metadata": {
    "executionInfo": {
     "elapsed": 39,
     "status": "ok",
     "timestamp": 1742976603546,
     "user": {
      "displayName": "Yavuz",
      "userId": "01318046262282431930"
     },
     "user_tz": -60
    },
    "id": "DFng4ocDw3Hk"
   },
   "outputs": [],
   "source": [
    "df_query_dev['preds'] = df_query_dev['bm25_topk'].apply(lambda x: x[:5])"
   ]
  },
  {
   "cell_type": "code",
   "execution_count": 19,
   "metadata": {
    "executionInfo": {
     "elapsed": 13,
     "status": "ok",
     "timestamp": 1742976608184,
     "user": {
      "displayName": "Yavuz",
      "userId": "01318046262282431930"
     },
     "user_tz": -60
    },
    "id": "nAVBQYh_xP8O"
   },
   "outputs": [],
   "source": [
    "df_query_dev[['post_id', 'preds']].to_csv('predictions.tsv', index=None, sep='\\t')"
   ]
  },
  {
   "cell_type": "markdown",
   "metadata": {},
   "source": [
    "# NLP model"
   ]
  },
  {
   "cell_type": "code",
   "execution_count": 20,
   "metadata": {},
   "outputs": [],
   "source": [
    "!pip install -q sentence-transformers==2.2.2 transformers==4.28.1 huggingface-hub==0.14.1 pandas numpy tqdm scikit-learn"
   ]
  },
  {
   "cell_type": "code",
   "execution_count": 21,
   "metadata": {
    "id": "opGI1H1h4Og5",
    "scrolled": true
   },
   "outputs": [
    {
     "name": "stderr",
     "output_type": "stream",
     "text": [
      "/Users/Lenovo/anaconda3/envs/ML_ass/lib/python3.10/site-packages/tqdm/auto.py:21: TqdmWarning: IProgress not found. Please update jupyter and ipywidgets. See https://ipywidgets.readthedocs.io/en/stable/user_install.html\n",
      "  from .autonotebook import tqdm as notebook_tqdm\n"
     ]
    }
   ],
   "source": [
    "import pandas as pd\n",
    "import numpy as np\n",
    "import pickle\n",
    "import re\n",
    "import random\n",
    "from tqdm import tqdm\n",
    "from sentence_transformers import SentenceTransformer, InputExample, losses\n",
    "from torch.utils.data import DataLoader\n",
    "from sklearn.metrics.pairwise import cosine_similarity"
   ]
  },
  {
   "cell_type": "markdown",
   "metadata": {},
   "source": [
    "#### Prepare the function for evaluation"
   ]
  },
  {
   "cell_type": "code",
   "execution_count": 22,
   "metadata": {},
   "outputs": [],
   "source": [
    "def get_performance_mrr(data, col_gold='cord_uid', col_pred='preds', list_k=[1, 5]):\n",
    "    results = {}\n",
    "    for k in list_k:\n",
    "        def reciprocal_rank(row):\n",
    "            preds = row[col_pred][:k]\n",
    "            if row[col_gold] in preds:\n",
    "                return 1 / (preds.index(row[col_gold]) + 1)\n",
    "            return 0\n",
    "        mrr = data.apply(reciprocal_rank, axis=1).mean()\n",
    "        results[f\"MRR@{k}\"] = round(mrr, 4)\n",
    "    return results\n"
   ]
  },
  {
   "cell_type": "markdown",
   "metadata": {},
   "source": [
    "#### Prepare the data"
   ]
  },
  {
   "cell_type": "code",
   "execution_count": 23,
   "metadata": {},
   "outputs": [
    {
     "name": "stdout",
     "output_type": "stream",
     "text": [
      "Loading the dataset...\n",
      "Loading collection data...\n"
     ]
    },
    {
     "name": "stderr",
     "output_type": "stream",
     "text": [
      "/var/folders/xl/2wwrkqc91pq3zqg3xpy5d3_80000gn/T/ipykernel_95056/1352287783.py:10: DeprecationWarning: numpy.core.numeric is deprecated and has been renamed to numpy._core.numeric. The numpy._core namespace contains private NumPy internals and its use is discouraged, as NumPy internals can change without warning in any release. In practice, most real-world usage of numpy.core is to access functionality in the public NumPy API. If that is the case, use the public NumPy API. If not, you are using NumPy internals. If you would still like to access an internal attribute, use numpy._core.numeric._frombuffer.\n",
      "  collection_df = pickle.load(f)\n"
     ]
    }
   ],
   "source": [
    "print(\"Loading the dataset...\")\n",
    "PATH_QUERY_TEST_DATA = 'subtask4b_query_tweets_test.tsv' \n",
    "df_query_train = pd.read_csv(PATH_QUERY_TRAIN_DATA, sep = '\\t')\n",
    "df_query_dev = pd.read_csv(PATH_QUERY_DEV_DATA, sep = '\\t')\n",
    "df_query_test = pd.read_csv(PATH_QUERY_TEST_DATA, sep = '\\t')\n",
    "\n",
    "# Load and prepare collection data\n",
    "print(\"Loading collection data...\")\n",
    "with open('subtask4b_collection_data.pkl', 'rb') as f:\n",
    "    collection_df = pickle.load(f)\n",
    "collection_df['text'] = collection_df['title'].fillna('') + ' ' + collection_df['abstract'].fillna('')\n",
    "paper_text_map = collection_df.set_index('cord_uid')['text'].to_dict()\n",
    "paper_cord_uids = collection_df['cord_uid'].tolist()\n"
   ]
  },
  {
   "cell_type": "markdown",
   "metadata": {},
   "source": [
    "### Preprocessing the tweets dataset"
   ]
  },
  {
   "cell_type": "code",
   "execution_count": 24,
   "metadata": {},
   "outputs": [],
   "source": [
    "# Function to clean tweet text \n",
    "def clean_tweet(text):\n",
    "    # Remove URLs\n",
    "    text = re.sub(r\"http\\S+|www\\S+\", \"\", text)\n",
    "    # Remove emojis\n",
    "    text = text.encode('ascii', 'ignore').decode('ascii')\n",
    "    # Remove slashes \n",
    "    text = re.sub(r\"\\b\\d+\\/\\d*\\b\", \"\", text)\n",
    "    # Lowercase everything\n",
    "    text = text.lower()\n",
    "    # Collapse multiple spaces\n",
    "    text = re.sub(r\"\\s+\", \" \", text).strip()\n",
    "    return text\n",
    "\n",
    "# Apply to the dataset\n",
    "df_query_train['tweet_text'] = df_query_train['tweet_text'].apply(clean_tweet)\n",
    "df_query_dev['tweet_text'] = df_query_dev['tweet_text'].apply(clean_tweet)\n",
    "df_query_test['tweet_text'] = df_query_test['tweet_text'].apply(clean_tweet)"
   ]
  },
  {
   "cell_type": "markdown",
   "metadata": {},
   "source": [
    "### Baseline SBERT model "
   ]
  },
  {
   "cell_type": "code",
   "execution_count": 25,
   "metadata": {},
   "outputs": [
    {
     "name": "stdout",
     "output_type": "stream",
     "text": [
      "Loading SBERT model...\n"
     ]
    }
   ],
   "source": [
    "# Load pre-trained Sentence-BERT model\n",
    "print(\"Loading SBERT model...\")\n",
    "baseline_model = SentenceTransformer('sentence-transformers/all-MiniLM-L6-v2')"
   ]
  },
  {
   "cell_type": "code",
   "execution_count": 26,
   "metadata": {},
   "outputs": [
    {
     "name": "stdout",
     "output_type": "stream",
     "text": [
      "Encoding collection (papers)...\n"
     ]
    },
    {
     "name": "stderr",
     "output_type": "stream",
     "text": [
      "Batches: 100%|██████████| 121/121 [02:04<00:00,  1.03s/it]\n"
     ]
    }
   ],
   "source": [
    "# Encode collection texts into dense vectors\n",
    "print(\"Encoding collection (papers)...\")\n",
    "paper_embeddings = baseline_model.encode(\n",
    "    collection_df['text'].tolist(),\n",
    "    batch_size=64,\n",
    "    show_progress_bar=True,\n",
    "    convert_to_numpy=True\n",
    ")"
   ]
  },
  {
   "cell_type": "code",
   "execution_count": 27,
   "metadata": {},
   "outputs": [
    {
     "name": "stdout",
     "output_type": "stream",
     "text": [
      "Encoding tweets...\n"
     ]
    },
    {
     "name": "stderr",
     "output_type": "stream",
     "text": [
      "Batches: 100%|██████████| 23/23 [00:04<00:00,  5.47it/s]\n"
     ]
    },
    {
     "name": "stdout",
     "output_type": "stream",
     "text": [
      "Encoding dev tweets...\n"
     ]
    },
    {
     "name": "stderr",
     "output_type": "stream",
     "text": [
      "Batches: 100%|██████████| 22/22 [00:04<00:00,  4.81it/s]\n"
     ]
    }
   ],
   "source": [
    "# Encode test tweet texts\n",
    "print(\"Encoding tweets...\")\n",
    "test_tweet_embeddings = baseline_model.encode(\n",
    "    df_query_test['tweet_text'].tolist(),\n",
    "    batch_size=64,\n",
    "    show_progress_bar=True,\n",
    "    convert_to_numpy=True\n",
    ")\n",
    "\n",
    "# Encode dev tweet texts\n",
    "print(\"Encoding dev tweets...\")\n",
    "dev_tweet_embeddings = baseline_model.encode(\n",
    "    df_query_dev['tweet_text'].tolist(),\n",
    "    batch_size=64,\n",
    "    show_progress_bar=True,\n",
    "    convert_to_numpy=True\n",
    ")"
   ]
  },
  {
   "cell_type": "code",
   "execution_count": 28,
   "metadata": {},
   "outputs": [
    {
     "name": "stdout",
     "output_type": "stream",
     "text": [
      "Computing similarities...\n"
     ]
    }
   ],
   "source": [
    "# Compute cosine similarities\n",
    "print(\"Computing similarities...\")\n",
    "similarity_matrix = cosine_similarity(test_tweet_embeddings, paper_embeddings)"
   ]
  },
  {
   "cell_type": "code",
   "execution_count": 29,
   "metadata": {},
   "outputs": [
    {
     "name": "stdout",
     "output_type": "stream",
     "text": [
      "Selecting top 5 documents for each tweet...\n"
     ]
    }
   ],
   "source": [
    "# For each tweet, get top 5 most similar documents : Mean Reciprocal Rank (MRR@5)\n",
    "print(\"Selecting top 5 documents for each tweet...\")\n",
    "top_k = 5\n",
    "top_indices = np.argsort(similarity_matrix, axis=1)[:, -top_k:][:, ::-1]  # reverse sort for descending\n",
    "\n",
    "top_cord_uids = [\n",
    "    [paper_cord_uids[i] for i in row]\n",
    "    for row in top_indices\n",
    "]"
   ]
  },
  {
   "cell_type": "code",
   "execution_count": 30,
   "metadata": {},
   "outputs": [
    {
     "name": "stdout",
     "output_type": "stream",
     "text": [
      "Saving predictions...\n"
     ]
    }
   ],
   "source": [
    "# Build submission dataframe\n",
    "print(\"Saving predictions...\")\n",
    "df_query_test['preds'] = top_cord_uids\n",
    "submission_df = df_query_test[['post_id', 'preds']]"
   ]
  },
  {
   "cell_type": "code",
   "execution_count": null,
   "metadata": {},
   "outputs": [
    {
     "name": "stdout",
     "output_type": "stream",
     "text": [
      "Done! Output saved to 'predictions_representation_baseline.tsv'\n"
     ]
    }
   ],
   "source": [
    "# Save to nlp_predictions_representation_baseline.tsv\n",
    "submission_df.to_csv('nlp_predictions_representation_baseline.tsv', sep='\\t', index=False)\n",
    "print(\"Done! Output saved to 'nlp_predictions_representation_baseline.tsv'\")"
   ]
  },
  {
   "cell_type": "code",
   "execution_count": 32,
   "metadata": {},
   "outputs": [
    {
     "name": "stdout",
     "output_type": "stream",
     "text": [
      "Computing similarity for dev set...\n"
     ]
    }
   ],
   "source": [
    "# Compute similarity with paper embeddings\n",
    "print(\"Computing similarity for dev set...\")\n",
    "similarity_matrix_dev = cosine_similarity(dev_tweet_embeddings, paper_embeddings)"
   ]
  },
  {
   "cell_type": "markdown",
   "metadata": {},
   "source": [
    "#### Evaluation"
   ]
  },
  {
   "cell_type": "code",
   "execution_count": 33,
   "metadata": {},
   "outputs": [
    {
     "name": "stdout",
     "output_type": "stream",
     "text": [
      "SBERT baseline MRR@1: 0.41,SBERT baseline MRR@5: 0.4857,SBERT baseline MRR@10: 0.4955\n",
      "BM25 MRR@1: 0.505, BM25 MRR@5: 0.5520357142857142, BM25 MRR@10: 0.5520357142857142\n"
     ]
    }
   ],
   "source": [
    "top_k = 10\n",
    "\n",
    "# Get top-K predicted cord_uids for each tweet\n",
    "top_indices_dev = np.argsort(similarity_matrix_dev, axis=1)[:, -top_k:][:, ::-1]\n",
    "top_cord_uids_dev = [\n",
    "    [paper_cord_uids[i] for i in row]\n",
    "    for row in top_indices_dev\n",
    "]\n",
    "\n",
    "# Add predictions to the dev dataframe\n",
    "df_query_dev['preds'] = top_cord_uids_dev\n",
    "\n",
    "# Run and print MRR metrics\n",
    "mrr_results = get_performance_mrr(df_query_dev, list_k=[1, 5, 10])\n",
    "\n",
    "# Compute and print MRR@5\n",
    "mrr5 = get_performance_mrr(df_query_dev)\n",
    "print(f\"SBERT baseline MRR@1: {mrr_results['MRR@1']},SBERT baseline MRR@5: {mrr_results['MRR@5']},SBERT baseline MRR@10: {mrr_results['MRR@10']}\")\n",
    "print(f\"BM25 MRR@1: {results_dev[1]}, BM25 MRR@5: {results_dev[5]}, BM25 MRR@10: {results_dev[10]}\")"
   ]
  },
  {
   "cell_type": "markdown",
   "metadata": {},
   "source": [
    "### Experiment 1: Positive pairs training"
   ]
  },
  {
   "cell_type": "code",
   "execution_count": 34,
   "metadata": {},
   "outputs": [
    {
     "name": "stdout",
     "output_type": "stream",
     "text": [
      "Loading SBERT model...\n"
     ]
    }
   ],
   "source": [
    "# Load pre-trained Sentence-BERT model\n",
    "print(\"Loading SBERT model...\")\n",
    "pos_model = SentenceTransformer('sentence-transformers/all-MiniLM-L6-v2')"
   ]
  },
  {
   "cell_type": "code",
   "execution_count": 35,
   "metadata": {},
   "outputs": [
    {
     "name": "stdout",
     "output_type": "stream",
     "text": [
      "Positive-only examples: 12853\n",
      "Mixed examples (pos + neg): 25706\n",
      "Skipped 0 tweets due to missing paper metadata.\n"
     ]
    }
   ],
   "source": [
    "# Prepare training examples\n",
    "all_cord_uids = list(paper_text_map.keys())\n",
    "\n",
    "train_examples_pos = []\n",
    "train_examples_mixed = []\n",
    "missing = 0\n",
    "\n",
    "\n",
    "# Create positive and mixed examples\n",
    "for _, row in df_query_train.iterrows():\n",
    "    tweet = row['tweet_text']\n",
    "    true_cord_uid = row['cord_uid']\n",
    "    paper_text = paper_text_map.get(true_cord_uid)\n",
    "\n",
    "    # Positive example\n",
    "    if paper_text:\n",
    "        pos_example = InputExample(texts=[tweet, paper_text], label=1.0)\n",
    "        train_examples_pos.append(pos_example)\n",
    "        train_examples_mixed.append(pos_example)\n",
    "\n",
    "        # Create one negative sample (random paper ≠ true_cord_uid)\n",
    "        negative_uid = random.choice([uid for uid in all_cord_uids if uid != true_cord_uid])\n",
    "        neg_paper_text = paper_text_map[negative_uid]\n",
    "        neg_example = InputExample(texts=[tweet, neg_paper_text], label=0.0)\n",
    "        train_examples_mixed.append(neg_example)\n",
    "    else:\n",
    "        missing += 1\n",
    "\n",
    "print(f\"Positive-only examples: {len(train_examples_pos)}\")\n",
    "print(f\"Mixed examples (pos + neg): {len(train_examples_mixed)}\")\n",
    "print(f\"Skipped {missing} tweets due to missing paper metadata.\")\n"
   ]
  },
  {
   "cell_type": "code",
   "execution_count": 36,
   "metadata": {},
   "outputs": [
    {
     "name": "stderr",
     "output_type": "stream",
     "text": [
      "Iteration: 100%|██████████| 804/804 [17:05<00:00,  1.28s/it]\n",
      "Epoch: 100%|██████████| 1/1 [17:05<00:00, 1025.34s/it]\n"
     ]
    }
   ],
   "source": [
    "train_dataloader_pos = DataLoader(train_examples_pos, shuffle=True, batch_size=16)\n",
    "train_loss_pos = losses.CosineSimilarityLoss(pos_model)\n",
    "\n",
    "pos_model.fit(\n",
    "    train_objectives=[(train_dataloader_pos, train_loss_pos)],\n",
    "    epochs=1,\n",
    "    warmup_steps=100,\n",
    "    show_progress_bar=True\n",
    ")\n",
    "\n",
    "pos_model.save(\"fine_tuned_sbert_model_pos\")\n",
    "pos_model = SentenceTransformer(\"fine_tuned_sbert_model_pos\")"
   ]
  },
  {
   "cell_type": "code",
   "execution_count": 37,
   "metadata": {},
   "outputs": [
    {
     "name": "stdout",
     "output_type": "stream",
     "text": [
      "Encoding collection (papers)...\n"
     ]
    },
    {
     "name": "stderr",
     "output_type": "stream",
     "text": [
      "Batches: 100%|██████████| 121/121 [02:26<00:00,  1.21s/it]\n"
     ]
    }
   ],
   "source": [
    "# Encode collection texts \n",
    "print(\"Encoding collection (papers)...\")\n",
    "paper_embeddings_pos = pos_model.encode(\n",
    "    collection_df['text'].tolist(),\n",
    "    batch_size=64,\n",
    "    show_progress_bar=True,\n",
    "    convert_to_numpy=True\n",
    ")"
   ]
  },
  {
   "cell_type": "code",
   "execution_count": null,
   "metadata": {},
   "outputs": [
    {
     "name": "stdout",
     "output_type": "stream",
     "text": [
      "Encoding tweets...\n"
     ]
    },
    {
     "name": "stderr",
     "output_type": "stream",
     "text": [
      "Batches: 100%|██████████| 23/23 [00:05<00:00,  4.32it/s]\n"
     ]
    },
    {
     "name": "stdout",
     "output_type": "stream",
     "text": [
      "Saving predictions...\n"
     ]
    }
   ],
   "source": [
    "# Encode tweet texts\n",
    "print(\"Encoding tweets...\")\n",
    "test_tweet_embeddings_pos = pos_model.encode(\n",
    "    df_query_test['tweet_text'].tolist(),\n",
    "    batch_size=64,\n",
    "    show_progress_bar=True,\n",
    "    convert_to_numpy=True\n",
    ")\n",
    "\n",
    "similarity_matrix_pos = cosine_similarity(test_tweet_embeddings_pos, paper_embeddings_pos)\n",
    "\n",
    "# Extract top-K predictions\n",
    "top_k = 5\n",
    "top_indices_pos = np.argsort(similarity_matrix_pos, axis=1)[:, -top_k:][:, ::-1]\n",
    "top_cord_uids_pos = [[paper_cord_uids[i] for i in row] for row in top_indices_pos]\n",
    "\n",
    "# Save submission\n",
    "print(\"Saving predictions...\")\n",
    "df_query_test['preds_pos'] = top_cord_uids_pos\n",
    "df_query_test[['post_id', 'preds_pos']].to_csv('nlp_predictions_representation_pos.tsv', sep='\\t', index=False)\n"
   ]
  },
  {
   "cell_type": "code",
   "execution_count": 39,
   "metadata": {},
   "outputs": [
    {
     "name": "stderr",
     "output_type": "stream",
     "text": [
      "Batches:   0%|          | 0/22 [00:00<?, ?it/s]"
     ]
    },
    {
     "name": "stderr",
     "output_type": "stream",
     "text": [
      "Batches: 100%|██████████| 22/22 [00:05<00:00,  3.97it/s]\n"
     ]
    }
   ],
   "source": [
    "dev_tweet_embeddings_pos = pos_model.encode(\n",
    "    df_query_dev['tweet_text'].tolist(),\n",
    "    batch_size=64,\n",
    "    show_progress_bar=True,\n",
    "    convert_to_numpy=True\n",
    ")\n",
    "\n",
    "# Recompute cosine similarity for dev set\n",
    "similarity_matrix_dev_pos = cosine_similarity(dev_tweet_embeddings_pos, paper_embeddings_pos)"
   ]
  },
  {
   "cell_type": "code",
   "execution_count": 47,
   "metadata": {},
   "outputs": [
    {
     "name": "stdout",
     "output_type": "stream",
     "text": [
      "SBERT pos MRR@1: 0.2493,SBERT pos MRR@5: 0.3056,SBERT pos MRR@10: 0.3149\n",
      "BM25 MRR@1: 0.505, BM25 MRR@5: 0.5520357142857142, BM25 MRR@10: 0.5520357142857142\n"
     ]
    }
   ],
   "source": [
    "top_k = 10\n",
    "\n",
    "# Get top-K predicted cord_uids for each tweet\n",
    "top_indices_dev_pos = np.argsort(similarity_matrix_dev_pos, axis=1)[:, -top_k:][:, ::-1]\n",
    "top_cord_uids_dev_pos = [[paper_cord_uids[i] for i in row] for row in top_indices_dev_pos]\n",
    "\n",
    "# Add predictions to the dev dataframe\n",
    "df_query_dev['preds_pos'] = top_cord_uids_dev_pos\n",
    "\n",
    "# Run and print MRR metrics\n",
    "mrr_results_pos = get_performance_mrr(df_query_dev, col_pred='preds_pos', list_k=[1, 5, 10])\n",
    "\n",
    "\n",
    "# Compute and print MRR@5\n",
    "mrr5 = get_performance_mrr(df_query_dev)\n",
    "print(f\"SBERT pos MRR@1: {mrr_results_pos['MRR@1']},SBERT pos MRR@5: {mrr_results_pos['MRR@5']},SBERT pos MRR@10: {mrr_results_pos['MRR@10']}\")\n",
    "print(f\"BM25 MRR@1: {results_dev[1]}, BM25 MRR@5: {results_dev[5]}, BM25 MRR@10: {results_dev[10]}\")"
   ]
  },
  {
   "cell_type": "markdown",
   "metadata": {},
   "source": [
    "### Experiment 2: Mixed positive and negative pairs training"
   ]
  },
  {
   "cell_type": "code",
   "execution_count": 48,
   "metadata": {},
   "outputs": [
    {
     "name": "stdout",
     "output_type": "stream",
     "text": [
      "Loading SBERT model...\n"
     ]
    }
   ],
   "source": [
    "# Load pre-trained Sentence-BERT model\n",
    "print(\"Loading SBERT model...\")\n",
    "mixed_model = SentenceTransformer('sentence-transformers/all-MiniLM-L6-v2')"
   ]
  },
  {
   "cell_type": "code",
   "execution_count": 49,
   "metadata": {},
   "outputs": [
    {
     "name": "stderr",
     "output_type": "stream",
     "text": [
      "Iteration: 100%|██████████| 1607/1607 [31:19<00:00,  1.17s/it]\n",
      "Epoch: 100%|██████████| 1/1 [31:19<00:00, 1879.08s/it]\n"
     ]
    }
   ],
   "source": [
    "train_dataloader_mixed = DataLoader(train_examples_mixed, shuffle=True, batch_size=16)\n",
    "train_loss_mixed = losses.MultipleNegativesRankingLoss(mixed_model)\n",
    "\n",
    "mixed_model.fit(\n",
    "    train_objectives=[(train_dataloader_mixed, train_loss_mixed)],\n",
    "    epochs=1,\n",
    "    warmup_steps=100,\n",
    "    show_progress_bar=True\n",
    ")\n",
    "\n",
    "mixed_model.save(\"fine_tuned_sbert_mixed_v1\")\n",
    "mixed_model = SentenceTransformer(\"fine_tuned_sbert_mixed_v1\")"
   ]
  },
  {
   "cell_type": "code",
   "execution_count": 50,
   "metadata": {},
   "outputs": [
    {
     "name": "stdout",
     "output_type": "stream",
     "text": [
      "Encoding collection (papers)...\n"
     ]
    },
    {
     "name": "stderr",
     "output_type": "stream",
     "text": [
      "Batches: 100%|██████████| 121/121 [02:16<00:00,  1.12s/it]\n"
     ]
    }
   ],
   "source": [
    "# Encode collection texts into dense vectors\n",
    "print(\"Encoding collection (papers)...\")\n",
    "paper_embeddings_mixed = mixed_model.encode(\n",
    "    collection_df['text'].tolist(),\n",
    "    batch_size=64,\n",
    "    show_progress_bar=True,\n",
    "    convert_to_numpy=True\n",
    ")"
   ]
  },
  {
   "cell_type": "code",
   "execution_count": null,
   "metadata": {},
   "outputs": [
    {
     "name": "stdout",
     "output_type": "stream",
     "text": [
      "Encoding tweets...\n"
     ]
    },
    {
     "name": "stderr",
     "output_type": "stream",
     "text": [
      "Batches: 100%|██████████| 23/23 [00:04<00:00,  5.24it/s]\n"
     ]
    },
    {
     "name": "stdout",
     "output_type": "stream",
     "text": [
      "Saving predictions...\n"
     ]
    }
   ],
   "source": [
    "# Encode tweet texts\n",
    "print(\"Encoding tweets...\")\n",
    "test_tweet_embeddings_mixed = mixed_model.encode(\n",
    "    df_query_test['tweet_text'].tolist(),\n",
    "    batch_size=64,\n",
    "    show_progress_bar=True,\n",
    "    convert_to_numpy=True\n",
    ")\n",
    "\n",
    "similarity_matrix_mixed = cosine_similarity(test_tweet_embeddings_mixed, paper_embeddings_mixed)\n",
    "\n",
    "# Extract top-K predictions\n",
    "top_k = 5\n",
    "top_indices_mixed = np.argsort(similarity_matrix_mixed, axis=1)[:, -top_k:][:, ::-1]\n",
    "top_cord_uids_mixed = [[paper_cord_uids[i] for i in row] for row in top_indices_mixed]\n",
    "\n",
    "# Save submission\n",
    "print(\"Saving predictions...\")\n",
    "df_query_test['preds_mixed'] = top_cord_uids_mixed\n",
    "df_query_test[['post_id', 'preds_mixed']].to_csv('nlp_predictions_representation_mixed.tsv', sep='\\t', index=False)\n"
   ]
  },
  {
   "cell_type": "code",
   "execution_count": 52,
   "metadata": {},
   "outputs": [
    {
     "name": "stderr",
     "output_type": "stream",
     "text": [
      "Batches:   0%|          | 0/22 [00:00<?, ?it/s]"
     ]
    },
    {
     "name": "stderr",
     "output_type": "stream",
     "text": [
      "Batches: 100%|██████████| 22/22 [00:05<00:00,  4.34it/s]\n"
     ]
    }
   ],
   "source": [
    "dev_tweet_embeddings_mixed = mixed_model.encode(\n",
    "    df_query_dev['tweet_text'].tolist(),\n",
    "    batch_size=64,\n",
    "    show_progress_bar=True,\n",
    "    convert_to_numpy=True\n",
    ")\n",
    "\n",
    "# Recompute cosine similarity for dev set\n",
    "similarity_matrix_dev_mixed = cosine_similarity(dev_tweet_embeddings_mixed, paper_embeddings_mixed)"
   ]
  },
  {
   "cell_type": "code",
   "execution_count": 53,
   "metadata": {},
   "outputs": [
    {
     "name": "stdout",
     "output_type": "stream",
     "text": [
      "SBERT mixed MRR@1: 0.4993,SBERT mixed MRR@5: 0.5704,SBERT mixed MRR@10: 0.5785\n",
      "BM25 MRR@1: 0.505, BM25 MRR@5: 0.5520357142857142, BM25 MRR@10: 0.5520357142857142\n"
     ]
    }
   ],
   "source": [
    "top_k = 10\n",
    "\n",
    "# Get top-K predicted cord_uids for each tweet\n",
    "top_indices_dev_mixed = np.argsort(similarity_matrix_dev_mixed, axis=1)[:, -top_k:][:, ::-1]\n",
    "top_cord_uids_dev_mixed = [\n",
    "    [paper_cord_uids[i] for i in row]\n",
    "    for row in top_indices_dev_mixed\n",
    "]\n",
    "\n",
    "# Add predictions to the dev dataframe\n",
    "df_query_dev['preds_mixed'] = top_cord_uids_dev_mixed\n",
    "\n",
    "# Run and print MRR metrics\n",
    "mrr_results_mixed = get_performance_mrr(df_query_dev, col_pred='preds_mixed', list_k=[1, 5, 10])\n",
    "\n",
    "print(f\"SBERT mixed MRR@1: {mrr_results_mixed['MRR@1']},SBERT mixed MRR@5: {mrr_results_mixed['MRR@5']},SBERT mixed MRR@10: {mrr_results_mixed['MRR@10']}\")\n",
    "print(f\"BM25 MRR@1: {results_dev[1]}, BM25 MRR@5: {results_dev[5]}, BM25 MRR@10: {results_dev[10]}\")"
   ]
  },
  {
   "cell_type": "markdown",
   "metadata": {},
   "source": [
    "### Experiment 3: Mixed positive and hard negative pairs training"
   ]
  },
  {
   "cell_type": "code",
   "execution_count": 54,
   "metadata": {},
   "outputs": [
    {
     "name": "stdout",
     "output_type": "stream",
     "text": [
      "Loading SBERT model...\n"
     ]
    }
   ],
   "source": [
    "# Load pre-trained Sentence-BERT model\n",
    "print(\"Loading SBERT model...\")\n",
    "hardneg_model = SentenceTransformer('sentence-transformers/all-MiniLM-L6-v2')"
   ]
  },
  {
   "cell_type": "code",
   "execution_count": 55,
   "metadata": {},
   "outputs": [
    {
     "name": "stdout",
     "output_type": "stream",
     "text": [
      "Encoding paper texts...\n"
     ]
    },
    {
     "name": "stderr",
     "output_type": "stream",
     "text": [
      "Batches: 100%|██████████| 121/121 [03:04<00:00,  1.53s/it]\n"
     ]
    }
   ],
   "source": [
    "# Encode all paper texts\n",
    "paper_ids = collection_df['cord_uid'].tolist()\n",
    "paper_texts = collection_df['text'].tolist()\n",
    "\n",
    "print(\"Encoding paper texts...\")\n",
    "paper_embeddings_hardneg = hardneg_model.encode(paper_texts, show_progress_bar=True, convert_to_numpy=True, batch_size=64)\n",
    "\n",
    "# Create lookup: cord_uid -> embedding\n",
    "paper_embedding_map_hardneg = dict(zip(paper_ids, paper_embeddings_hardneg))"
   ]
  },
  {
   "cell_type": "code",
   "execution_count": 56,
   "metadata": {},
   "outputs": [
    {
     "name": "stdout",
     "output_type": "stream",
     "text": [
      "Encoding tweet texts...\n"
     ]
    },
    {
     "name": "stderr",
     "output_type": "stream",
     "text": [
      "Batches: 100%|██████████| 201/201 [00:54<00:00,  3.70it/s]\n"
     ]
    }
   ],
   "source": [
    "# Encode all tweets in the training set\n",
    "tweet_ids = df_query_train['post_id'].tolist()\n",
    "tweet_texts = df_query_train['tweet_text'].tolist()\n",
    "tweet_uids = df_query_train['cord_uid'].tolist() \n",
    "\n",
    "print(\"Encoding tweet texts...\")\n",
    "tweet_embeddings_hardneg = hardneg_model.encode(tweet_texts, show_progress_bar=True, convert_to_numpy=True, batch_size=64)"
   ]
  },
  {
   "cell_type": "code",
   "execution_count": null,
   "metadata": {},
   "outputs": [
    {
     "name": "stderr",
     "output_type": "stream",
     "text": [
      "100%|██████████| 12853/12853 [02:06<00:00, 101.85it/s]\n"
     ]
    }
   ],
   "source": [
    "hard_negative_examples = []\n",
    "k = 2  # number of hard negatives per tweet\n",
    "\n",
    "for i in tqdm(range(len(tweet_texts))):\n",
    "    tweet_emb = tweet_embeddings_hardneg[i]\n",
    "    tweet_text = tweet_texts[i]\n",
    "    true_uid = tweet_uids[i]\n",
    "    \n",
    "    true_text = paper_text_map.get(true_uid)\n",
    "    if not true_text:\n",
    "        continue  \n",
    "    \n",
    "    # Positive example \n",
    "    hard_negative_examples.append(InputExample(texts=[tweet_text, true_text], label=1.0))\n",
    "\n",
    "    # Compute similarity to all paper embeddings\n",
    "    sims = cosine_similarity([tweet_emb], paper_embeddings_hardneg)[0]\n",
    "    \n",
    "    # Mask out true paper\n",
    "    sims = [(pid, score) for pid, score in zip(paper_ids, sims) if pid != true_uid]\n",
    "    \n",
    "    # Sort by similarity, take top k\n",
    "    hard_negs = sorted(sims, key=lambda x: x[1], reverse=True)[:k]\n",
    "\n",
    "    for neg_uid, _ in hard_negs:\n",
    "        neg_text = paper_text_map.get(neg_uid)\n",
    "        if neg_text:\n",
    "            hard_negative_examples.append(InputExample(texts=[tweet_text, neg_text], label=0.0))\n"
   ]
  },
  {
   "cell_type": "code",
   "execution_count": 58,
   "metadata": {},
   "outputs": [
    {
     "name": "stderr",
     "output_type": "stream",
     "text": [
      "Iteration: 100%|██████████| 2410/2410 [49:19<00:00,  1.23s/it]\n",
      "Epoch: 100%|██████████| 1/1 [49:19<00:00, 2959.95s/it]\n"
     ]
    }
   ],
   "source": [
    "train_dataloader_hardneg = DataLoader(hard_negative_examples, shuffle=True, batch_size=16)\n",
    "train_loss_hardneg = losses.MultipleNegativesRankingLoss(model=hardneg_model)\n",
    "\n",
    "hardneg_model.fit(\n",
    "    train_objectives=[(train_dataloader_hardneg, train_loss_hardneg)],\n",
    "    epochs=1,\n",
    "    warmup_steps=100,\n",
    "    show_progress_bar=True\n",
    ")\n",
    "\n",
    "hardneg_model.save(\"sbert_hardneg_finetuned\")\n",
    "hardneg_model = SentenceTransformer(\"sbert_hardneg_finetuned\")"
   ]
  },
  {
   "cell_type": "code",
   "execution_count": 59,
   "metadata": {},
   "outputs": [
    {
     "name": "stdout",
     "output_type": "stream",
     "text": [
      "Encoding collection (papers)...\n"
     ]
    },
    {
     "name": "stderr",
     "output_type": "stream",
     "text": [
      "Batches: 100%|██████████| 121/121 [02:24<00:00,  1.19s/it]\n"
     ]
    }
   ],
   "source": [
    "# Encode collection texts into dense vectors\n",
    "print(\"Encoding collection (papers)...\")\n",
    "paper_embeddings_hardneg = hardneg_model.encode(\n",
    "    collection_df['text'].tolist(),\n",
    "    batch_size=64,\n",
    "    show_progress_bar=True,\n",
    "    convert_to_numpy=True\n",
    ")"
   ]
  },
  {
   "cell_type": "code",
   "execution_count": null,
   "metadata": {},
   "outputs": [
    {
     "name": "stdout",
     "output_type": "stream",
     "text": [
      "Encoding tweets...\n"
     ]
    },
    {
     "name": "stderr",
     "output_type": "stream",
     "text": [
      "Batches: 100%|██████████| 23/23 [00:04<00:00,  4.74it/s]\n"
     ]
    },
    {
     "name": "stdout",
     "output_type": "stream",
     "text": [
      "Saving predictions...\n"
     ]
    }
   ],
   "source": [
    "# Encode tweet texts\n",
    "print(\"Encoding tweets...\")\n",
    "test_tweet_embeddings_hardneg = hardneg_model.encode(\n",
    "    df_query_test['tweet_text'].tolist(),\n",
    "    batch_size=64,\n",
    "    show_progress_bar=True,\n",
    "    convert_to_numpy=True\n",
    ")\n",
    "\n",
    "similarity_matrix = cosine_similarity(test_tweet_embeddings_hardneg, paper_embeddings_hardneg)\n",
    "\n",
    "# Extract top-K predictions\n",
    "top_k = 5\n",
    "top_indices_hardneg = np.argsort(similarity_matrix, axis=1)[:, -top_k:][:, ::-1]\n",
    "top_cord_uids_hardneg = [[paper_cord_uids[i] for i in row] for row in top_indices_hardneg]\n",
    "\n",
    "# Save submission\n",
    "print(\"Saving predictions...\")\n",
    "df_query_test['preds_hardneg'] = top_cord_uids_hardneg\n",
    "df_query_test[['post_id', 'preds_hardneg']].to_csv('nlp_predictions_representation_mixed_hardneg.tsv', sep='\\t', index=False)\n"
   ]
  },
  {
   "cell_type": "code",
   "execution_count": 61,
   "metadata": {},
   "outputs": [
    {
     "name": "stderr",
     "output_type": "stream",
     "text": [
      "Batches: 100%|██████████| 22/22 [00:05<00:00,  4.04it/s]\n"
     ]
    }
   ],
   "source": [
    "dev_tweet_embeddings_hardneg = hardneg_model.encode(\n",
    "    df_query_dev['tweet_text'].tolist(),\n",
    "    batch_size=64,\n",
    "    show_progress_bar=True,\n",
    "    convert_to_numpy=True\n",
    ")\n",
    "\n",
    "# Recompute cosine similarity for dev set\n",
    "similarity_matrix_dev = cosine_similarity(dev_tweet_embeddings_hardneg, paper_embeddings_hardneg)"
   ]
  },
  {
   "cell_type": "code",
   "execution_count": 62,
   "metadata": {},
   "outputs": [
    {
     "name": "stdout",
     "output_type": "stream",
     "text": [
      "SBERT hardneg MRR@1: 0.4793,SBERT hardneg MRR@5: 0.5514,SBERT hardneg MRR@10: 0.5602\n",
      "BM25 MRR@1: 0.505, BM25 MRR@5: 0.5520357142857142, BM25 MRR@10: 0.5520357142857142\n"
     ]
    }
   ],
   "source": [
    "top_k = 10\n",
    "\n",
    "# Get top-K predicted cord_uids for each tweet\n",
    "top_indices_dev_hardneg = np.argsort(similarity_matrix_dev, axis=1)[:, -top_k:][:, ::-1]\n",
    "top_cord_uids_dev_hardneg = [\n",
    "    [paper_cord_uids[i] for i in row]\n",
    "    for row in top_indices_dev_hardneg\n",
    "]\n",
    "\n",
    "# Add predictions to the dev dataframe\n",
    "df_query_dev['preds_hardneg'] = top_cord_uids_dev_hardneg\n",
    "\n",
    "# Run and print MRR metrics\n",
    "mrr_results_hardneg = get_performance_mrr(df_query_dev, col_pred='preds_hardneg', list_k=[1, 5, 10])\n",
    "\n",
    "print(f\"SBERT hardneg MRR@1: {mrr_results_hardneg['MRR@1']},SBERT hardneg MRR@5: {mrr_results_hardneg['MRR@5']},SBERT hardneg MRR@10: {mrr_results_hardneg['MRR@10']}\")\n",
    "print(f\"BM25 MRR@1: {results_dev[1]}, BM25 MRR@5: {results_dev[5]}, BM25 MRR@10: {results_dev[10]}\")"
   ]
  }
 ],
 "metadata": {
  "colab": {
   "provenance": []
  },
  "kernelspec": {
   "display_name": "ML_ass",
   "language": "python",
   "name": "python3"
  },
  "language_info": {
   "codemirror_mode": {
    "name": "ipython",
    "version": 3
   },
   "file_extension": ".py",
   "mimetype": "text/x-python",
   "name": "python",
   "nbconvert_exporter": "python",
   "pygments_lexer": "ipython3",
   "version": "3.10.16"
  }
 },
 "nbformat": 4,
 "nbformat_minor": 4
}
